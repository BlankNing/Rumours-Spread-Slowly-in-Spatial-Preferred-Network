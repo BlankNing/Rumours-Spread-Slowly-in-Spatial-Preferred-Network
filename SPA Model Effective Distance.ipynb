{
 "cells": [
  {
   "cell_type": "code",
   "execution_count": 1,
   "id": "0ff96eb4",
   "metadata": {},
   "outputs": [],
   "source": [
    "import networkx as nx\n",
    "import numpy as np\n",
    "import matplotlib.pyplot as plt"
   ]
  },
  {
   "cell_type": "code",
   "execution_count": 2,
   "id": "5eb5efa8",
   "metadata": {},
   "outputs": [],
   "source": [
    "# Set parameters\n",
    "num_vertices = 35\n",
    "metric_space_dim = 2\n",
    "A1 = 0.99\n",
    "A2 = 200"
   ]
  },
  {
   "cell_type": "code",
   "execution_count": 14,
   "id": "b626114c",
   "metadata": {},
   "outputs": [],
   "source": [
    "def get_influence(G,timestep):\n",
    "    in_degrees = dict(G.in_degree(G.nodes()))\n",
    "    sphere_of_influence = {v: ((A1*in_degrees.get(v))+A2)/timestep for v in G.nodes()}\n",
    "    return sphere_of_influence"
   ]
  },
  {
   "cell_type": "code",
   "execution_count": 4,
   "id": "64b0afa1",
   "metadata": {},
   "outputs": [],
   "source": [
    "# Plot the graph\n",
    "def plot_graph(influence = False):\n",
    "    pos = nx.get_node_attributes(G, 'location')\n",
    "    nx.draw(G, pos, node_size=20)\n",
    "\n",
    "    if influence:\n",
    "        for v in G.nodes():\n",
    "            sphere_of_influence = get_influence(num_vertices)\n",
    "            circle = plt.Circle(pos[v], sphere_of_influence[v], color='r', fill=False)\n",
    "            plt.gca().add_artist(circle)\n",
    "\n",
    "    plt.show()"
   ]
  },
  {
   "cell_type": "code",
   "execution_count": 5,
   "id": "dcff9775",
   "metadata": {},
   "outputs": [],
   "source": [
    "def calculate_effective_distance(G):\n",
    "    G = G.to_undirected()\n",
    "    # Calculate distances between all pairs of connected nodes\n",
    "    distances = []\n",
    "    for v in G.nodes():\n",
    "        for u in G.nodes():\n",
    "            if v != u and nx.has_path(G, v, u):\n",
    "                distances.append(nx.shortest_path_length(G, v, u))\n",
    "\n",
    "    # Calculate effective diameter\n",
    "    distances = np.array(distances)\n",
    "    effective_diameter = np.percentile(distances, 90)\n",
    "\n",
    "    print(\"Effective diameter:\", effective_diameter)\n",
    "    return effective_diameter"
   ]
  },
  {
   "cell_type": "code",
   "execution_count": 6,
   "id": "3aadd365",
   "metadata": {
    "scrolled": false
   },
   "outputs": [],
   "source": [
    "# # Initialize the graph with a single vertex\n",
    "# G = nx.DiGraph()\n",
    "# G.add_node(0,location=np.random.rand(metric_space_dim))\n",
    "\n",
    "# # Generate new vertices and add edges\n",
    "# for i in range(1, 10):\n",
    "#     # Choose location of new vertex in metric space corresponding to uniform distribution\n",
    "#     location = np.random.rand(metric_space_dim)*10\n",
    "    \n",
    "#     # Calculate sphere of influence\n",
    "#     sphere_of_influence = get_influence(i)\n",
    "    \n",
    "#     # Choose existing vertex to link to\n",
    "#     # Calculate the distances between each vertices\n",
    "#     distances = {v: np.linalg.norm(location - G.nodes[v]['location']) for v in G.nodes()}\n",
    "    \n",
    "#     # Calculate and regularize the probability of connection\n",
    "#     probabilities = {v: 1 if distances[v]<=sphere_of_influence[v] else 0 for v in G.nodes()}\n",
    "    \n",
    "#     # print(distances,sphere_of_influence,probabilities)\n",
    "\n",
    "#     # Add new vertex and edge\n",
    "#     G.add_node(i, location=location)\n",
    "#     for v in G.nodes():\n",
    "#         if v!=i and probabilities[v]==1:\n",
    "#             G.add_edge(i, v)\n",
    "    \n",
    "#     # plot each time-step\n",
    "# #     plot_graph(True)\n",
    "\n",
    "# # Calculate the effective distance\n",
    "# _ = calculate_effective_distance(G)\n",
    "\n",
    "# plot_graph(True)"
   ]
  },
  {
   "cell_type": "code",
   "execution_count": 7,
   "id": "8b169407",
   "metadata": {},
   "outputs": [],
   "source": [
    "# # Print the degree distribution of the final network\n",
    "# degrees = dict(G.degree())\n",
    "# hist, bins = np.histogram(list(degrees.values()), bins=range(max(degrees.values())+2))"
   ]
  },
  {
   "cell_type": "code",
   "execution_count": 8,
   "id": "10a98d94",
   "metadata": {},
   "outputs": [],
   "source": [
    "# in_degrees = dict(G.in_degree(G.nodes()))"
   ]
  },
  {
   "cell_type": "markdown",
   "id": "35a9b90b",
   "metadata": {},
   "source": [
    "# Run Simulation for Theorem 1.1"
   ]
  },
  {
   "cell_type": "code",
   "execution_count": 9,
   "id": "ac59cd63",
   "metadata": {},
   "outputs": [
    {
     "data": {
      "text/plain": [
       "0.15000000000000002"
      ]
     },
     "execution_count": 9,
     "metadata": {},
     "output_type": "execute_result"
    }
   ],
   "source": [
    "l = [0.1,0.2]\n",
    "np.average(l)"
   ]
  },
  {
   "cell_type": "code",
   "execution_count": 12,
   "id": "fffd01c4",
   "metadata": {},
   "outputs": [],
   "source": [
    "def simulation_effective(num, simulation_round=10):\n",
    "    effective_distance = []\n",
    "    \n",
    "    for _ in range(simulation_round):\n",
    "        G = nx.DiGraph()\n",
    "        G.add_node(0,location=np.random.rand(2)*10)\n",
    "\n",
    "        # Generate new vertices and add edges\n",
    "        for i in range(1, num):\n",
    "            # Choose location of new vertex in metric space corresponding to uniform distribution\n",
    "            location = np.random.rand(metric_space_dim)*10\n",
    "\n",
    "            # Calculate sphere of influence\n",
    "            sphere_of_influence = get_influence(G,i)\n",
    "\n",
    "            # Choose existing vertex to link to\n",
    "            # Calculate the distances between each vertices\n",
    "            distances = {v: np.linalg.norm(location - G.nodes[v]['location']) for v in G.nodes()}\n",
    "\n",
    "            # Calculate and regularize the probability of connection\n",
    "            probabilities = {v: 1 if distances[v]<=sphere_of_influence[v] else 0 for v in G.nodes()}\n",
    "\n",
    "            # print(distances,sphere_of_influence,probabilities)\n",
    "\n",
    "            # Add new vertex and edge\n",
    "            G.add_node(i, location=location)\n",
    "            for v in G.nodes():\n",
    "                if v!=i and probabilities[v]==1:\n",
    "                    G.add_edge(i, v)\n",
    "        \n",
    "        # calculate the effective distance of this graph\n",
    "        effective_distance.append(calculate_effective_distance(G))\n",
    "        print(f'{_+1}/{simulation_round}')\n",
    "    \n",
    "    ed = np.average(effective_distance)\n",
    "    record = {'num':num_vertices,'ed':ed}\n",
    "    return ed"
   ]
  },
  {
   "cell_type": "code",
   "execution_count": 17,
   "id": "09096fea",
   "metadata": {},
   "outputs": [
    {
     "name": "stdout",
     "output_type": "stream",
     "text": [
      "Effective diameter: 7.0\n",
      "1/5\n",
      "Effective diameter: 7.0\n",
      "2/5\n",
      "Effective diameter: 7.0\n",
      "3/5\n",
      "Effective diameter: 7.0\n",
      "4/5\n",
      "Effective diameter: 7.0\n",
      "5/5\n"
     ]
    },
    {
     "data": {
      "text/plain": [
       "7.0"
      ]
     },
     "execution_count": 17,
     "metadata": {},
     "output_type": "execute_result"
    }
   ],
   "source": [
    "simulation_effective(2000,simulation_round=5)"
   ]
  },
  {
   "cell_type": "code",
   "execution_count": 26,
   "id": "29593677",
   "metadata": {},
   "outputs": [],
   "source": [
    "n= [10,37,40,60,100,120,200,250,300,400,500,600,700,800,900,1000,1500,1900,2000]\n",
    "ed = [1,1.1,1.8,2.0,2.8,3.0,3.0,3.2,3.9,4.0,4.4,5.0,5.0,5.2,5.6,6.0,6.4,6.9,7.0]"
   ]
  },
  {
   "cell_type": "code",
   "execution_count": 29,
   "id": "520ae906",
   "metadata": {},
   "outputs": [
    {
     "data": {
      "image/png": "[encoded data removed]",
      "text/plain": [
       "<Figure size 432x288 with 1 Axes>"
      ]
     },
     "metadata": {
      "needs_background": "light"
     },
     "output_type": "display_data"
    }
   ],
   "source": [
    "# Generate x values\n",
    "x = np.linspace(1, 1000, 100)  # Avoid log(0) by starting from a small positive value\n",
    "\n",
    "# Compute y values\n",
    "y = np.log(x)**2\n",
    "\n",
    "# Plot the function\n",
    "# plt.plot(x, y, label=r'$y = \\log^2(x)$')\n",
    "plt.plot(n, ed, label=r'N & effective distance')\n",
    "\n",
    "# Add labels and title\n",
    "plt.xlabel('NUMBER OF VERTICES')\n",
    "plt.ylabel('EFFECTIVE DISTANCE')\n",
    "plt.title('Relationship between number of vertices & effective distance')\n",
    "\n",
    "# Add a legend\n",
    "plt.legend()\n",
    "\n",
    "# Show the plot\n",
    "plt.show()"
   ]
  },
  {
   "cell_type": "code",
   "execution_count": 28,
   "id": "f0720a87",
   "metadata": {},
   "outputs": [
    {
     "data": {
      "image/png": "[encoded data removed]",
      "text/plain": [
       "<Figure size 432x288 with 1 Axes>"
      ]
     },
     "metadata": {
      "needs_background": "light"
     },
     "output_type": "display_data"
    }
   ],
   "source": [
    "# 使用numpy的polyfit函数拟合一条直线，deg参数为1\n",
    "coefficients = np.polyfit(np.log(n)**2, ed, 1)\n",
    "\n",
    "# 创建一个代表拟合直线的函数\n",
    "fit = np.poly1d(coefficients)\n",
    "\n",
    "# 绘制原始数据\n",
    "plt.scatter(n, ed, label='Original data')\n",
    "\n",
    "# 绘制拟合直线\n",
    "plt.plot(n, fit(np.log(n)**2), color='red', label='Fit: {:.2f} + {:.2f}log²(n)'.format(*coefficients))\n",
    "\n",
    "plt.legend()\n",
    "plt.show()"
   ]
  },
  {
   "cell_type": "code",
   "execution_count": null,
   "id": "678ffdb1",
   "metadata": {},
   "outputs": [],
   "source": []
  }
 ],
 "metadata": {
  "kernelspec": {
   "display_name": "Python 3",
   "language": "python",
   "name": "python3"
  },
  "language_info": {
   "codemirror_mode": {
    "name": "ipython",
    "version": 3
   },
   "file_extension": ".py",
   "mimetype": "text/x-python",
   "name": "python",
   "nbconvert_exporter": "python",
   "pygments_lexer": "ipython3",
   "version": "3.8.8"
  }
 },
 "nbformat": 4,
 "nbformat_minor": 5
}
