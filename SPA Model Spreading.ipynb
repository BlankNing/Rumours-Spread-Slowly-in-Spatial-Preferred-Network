{
 "cells": [
  {
   "cell_type": "code",
   "execution_count": 35,
   "id": "8ec34427",
   "metadata": {},
   "outputs": [],
   "source": [
    "import networkx as nx\n",
    "import numpy as np\n",
    "import matplotlib.pyplot as plt\n",
    "import random\n",
    "import imageio\n",
    "import os"
   ]
  },
  {
   "cell_type": "code",
   "execution_count": 39,
   "id": "e643e17b",
   "metadata": {},
   "outputs": [],
   "source": [
    "# Set parameters\n",
    "num_vertices = 35\n",
    "metric_space_dim = 2\n",
    "A1 = 0.99\n",
    "A2 = 200"
   ]
  },
  {
   "cell_type": "code",
   "execution_count": 3,
   "id": "a27c3f85",
   "metadata": {},
   "outputs": [],
   "source": [
    "def get_influence(timestep):\n",
    "    in_degrees = dict(G.in_degree(G.nodes()))\n",
    "    sphere_of_influence = {v: ((A1*in_degrees.get(v))+A2)/timestep for v in G.nodes()}\n",
    "    return sphere_of_influence"
   ]
  },
  {
   "cell_type": "code",
   "execution_count": 50,
   "id": "e474863c",
   "metadata": {},
   "outputs": [],
   "source": [
    "# Plot the graph\n",
    "def plot_graph(influence = False):\n",
    "    pos = nx.get_node_attributes(G, 'location')\n",
    "    nx.draw(G, pos, node_size=20)\n",
    "\n",
    "    if influence:\n",
    "        for v in G.nodes():\n",
    "            sphere_of_influence = get_influence(num_vertices)\n",
    "            circle = plt.Circle(pos[v], sphere_of_influence[v], color='r', fill=False)\n",
    "            plt.gca().add_artist(circle)\n",
    "\n",
    "#     filename = f'network.png'\n",
    "#     plt.savefig(filename)\n",
    "    plt.show()"
   ]
  },
  {
   "cell_type": "code",
   "execution_count": 5,
   "id": "7d0b308d",
   "metadata": {},
   "outputs": [],
   "source": [
    "def calculate_effective_distance(G):\n",
    "    G = G.to_undirected()\n",
    "    # Calculate distances between all pairs of connected nodes\n",
    "    distances = []\n",
    "    for v in G.nodes():\n",
    "        for u in G.nodes():\n",
    "            if v != u and nx.has_path(G, v, u):\n",
    "                distances.append(nx.shortest_path_length(G, v, u))\n",
    "\n",
    "    # Calculate effective diameter\n",
    "    distances = np.array(distances)\n",
    "    effective_diameter = np.percentile(distances, 90)\n",
    "\n",
    "    print(\"Effective diameter:\", effective_diameter)\n",
    "    return effective_diameter"
   ]
  },
  {
   "cell_type": "code",
   "execution_count": 51,
   "id": "54959679",
   "metadata": {
    "scrolled": false
   },
   "outputs": [
    {
     "name": "stdout",
     "output_type": "stream",
     "text": [
      "Effective diameter: 3.0\n"
     ]
    },
    {
     "data": {
      "image/png": "[encoded data removed]",
      "text/plain": [
       "<Figure size 432x288 with 1 Axes>"
      ]
     },
     "metadata": {},
     "output_type": "display_data"
    }
   ],
   "source": [
    "%matplotlib inline\n",
    "# Initialize the graph with a single vertex\n",
    "G = nx.DiGraph()\n",
    "G.add_node(0,location=np.random.rand(metric_space_dim))\n",
    "\n",
    "# Generate new vertices and add edges\n",
    "for i in range(1, 20):\n",
    "    # Choose location of new vertex in metric space corresponding to uniform distribution\n",
    "    location = np.random.rand(metric_space_dim)*10\n",
    "    \n",
    "    # Calculate sphere of influence\n",
    "    sphere_of_influence = get_influence(i)\n",
    "    \n",
    "    # Choose existing vertex to link to\n",
    "    # Calculate the distances between each vertices\n",
    "    distances = {v: np.linalg.norm(location - G.nodes[v]['location']) for v in G.nodes()}\n",
    "    \n",
    "    # Calculate and regularize the probability of connection\n",
    "    probabilities = {v: 1 if distances[v]<=sphere_of_influence[v] else 0 for v in G.nodes()}\n",
    "    \n",
    "    # print(distances,sphere_of_influence,probabilities)\n",
    "\n",
    "    # Add new vertex and edge\n",
    "    G.add_node(i, location=location)\n",
    "    for v in G.nodes():\n",
    "        if v!=i and probabilities[v]==1:\n",
    "            G.add_edge(i, v)\n",
    "    \n",
    "    # plot each time-step\n",
    "#     plot_graph(True)\n",
    "\n",
    "# Calculate the effective distance\n",
    "_ = calculate_effective_distance(G)\n",
    "\n",
    "plot_graph()"
   ]
  },
  {
   "cell_type": "code",
   "execution_count": 46,
   "id": "e7f990f8",
   "metadata": {},
   "outputs": [],
   "source": [
    "%matplotlib agg\n",
    "G = G.to_undirected()\n",
    "# select a random source node\n",
    "source_node = random.choice(list(G.nodes()))\n",
    "\n",
    "# initialize rumour spreading\n",
    "infected_nodes = set([source_node])\n",
    "time_step = 0\n",
    "\n",
    "# track the number of consecutive steps without new infections\n",
    "no_new_infections = 0  \n",
    "\n",
    "\n",
    "# create list of node colors for visualization\n",
    "node_colors = ['blue' if node == source_node else 'gray' for node in G.nodes()]\n",
    "\n",
    "# create list of images for GIF\n",
    "images = []\n",
    "\n",
    "# simulate rumour spreading\n",
    "while len(infected_nodes) < len(G.nodes()) and no_new_infections < 10:\n",
    "    time_step += 1\n",
    "    new_infected_nodes = set()\n",
    "    for node in infected_nodes:\n",
    "        neighbours = list(G.neighbors(node))\n",
    "        random.shuffle(neighbours)\n",
    "        for neighbour in neighbours:\n",
    "            if neighbour not in infected_nodes:\n",
    "                new_infected_nodes.add(neighbour)\n",
    "                break\n",
    "    if len(new_infected_nodes) == 0:\n",
    "        no_new_infections += 1\n",
    "    else:\n",
    "        no_new_infections = 0\n",
    "    infected_nodes.update(new_infected_nodes)\n",
    "    \n",
    "    # update node colors for visualization\n",
    "#     for node in infected_nodes:\n",
    "#         node_colors[node] = 'blue'\n",
    "    for node in new_infected_nodes:\n",
    "        node_colors[node] = 'blue'\n",
    "    \n",
    "    # create a new figure and axis for each time step\n",
    "    fig, ax = plt.subplots()\n",
    "    ax.set_title(f'Iteration {time_step}')\n",
    "    nx.draw(G, pos=nx.circular_layout(G), node_color=node_colors, with_labels=False, ax=ax)\n",
    "    \n",
    "    # save the figure as an image\n",
    "    filename = f'rumour_spreading_{time_step}.png'\n",
    "    plt.savefig(filename)\n",
    "    plt.close()\n",
    "    images.append(imageio.imread(filename))\n",
    "    os.remove(filename)\n",
    "    \n",
    "\n",
    "# create GIF from list of images\n",
    "imageio.mimsave('rumour_spreading.gif', images, fps=2)"
   ]
  },
  {
   "cell_type": "code",
   "execution_count": 9,
   "id": "7730301e",
   "metadata": {},
   "outputs": [
    {
     "data": {
      "text/plain": [
       "6"
      ]
     },
     "execution_count": 9,
     "metadata": {},
     "output_type": "execute_result"
    }
   ],
   "source": [
    "time_step"
   ]
  },
  {
   "cell_type": "code",
   "execution_count": 8,
   "id": "52236f4a",
   "metadata": {},
   "outputs": [
    {
     "data": {
      "image/png": "[encoded data removed]",
      "text/plain": [
       "<Figure size 432x288 with 1 Axes>"
      ]
     },
     "metadata": {
      "needs_background": "light"
     },
     "output_type": "display_data"
    }
   ],
   "source": [
    "# Generate x values\n",
    "x = np.linspace(1, 1000, 100)  # Avoid log(0) by starting from a small positive value\n",
    "\n",
    "# Compute y values\n",
    "y = np.log(x)**2\n",
    "\n",
    "# Plot the function\n",
    "plt.plot(x, y, label=r'$y = \\log^2(x)$')\n",
    "# plt.plot(n, ed, label=r'N & effective distance')\n",
    "\n",
    "# Add labels and title\n",
    "plt.xlabel('x')\n",
    "plt.ylabel('y')\n",
    "plt.title('Plot of $y = \\log^2(x)$')\n",
    "\n",
    "# Add a legend\n",
    "plt.legend()\n",
    "\n",
    "# Show the plot\n",
    "plt.show()"
   ]
  },
  {
   "cell_type": "code",
   "execution_count": 315,
   "id": "cc419559",
   "metadata": {},
   "outputs": [
    {
     "name": "stdout",
     "output_type": "stream",
     "text": [
      "40 22\n"
     ]
    }
   ],
   "source": [
    "# Set parameters\n",
    "%matplotlib inline\n",
    "\n",
    "# Initialize the graph with a single vertex\n",
    "G = nx.DiGraph()\n",
    "G.add_node(0,location=np.random.rand(metric_space_dim))\n",
    "\n",
    "# Generate new vertices and add edges\n",
    "for i in range(1, num_vertices):\n",
    "    # Choose location of new vertex in metric space corresponding to uniform distribution\n",
    "    location = np.random.rand(metric_space_dim)*10\n",
    "    \n",
    "    # Calculate sphere of influence\n",
    "    sphere_of_influence = get_influence(i)\n",
    "    \n",
    "    # Choose existing vertex to link to\n",
    "    # Calculate the distances between each vertices\n",
    "    distances = {v: np.linalg.norm(location - G.nodes[v]['location']) for v in G.nodes()}\n",
    "    \n",
    "    # Calculate and regularize the probability of connection\n",
    "    probabilities = {v: 1 if distances[v]<=sphere_of_influence[v] else 0 for v in G.nodes()}\n",
    "    \n",
    "    # print(distances,sphere_of_influence,probabilities)\n",
    "\n",
    "    # Add new vertex and edge\n",
    "    G.add_node(i, location=location)\n",
    "    for v in G.nodes():\n",
    "        if v!=i and probabilities[v]==1:\n",
    "            G.add_edge(i, v)\n",
    "# plot_graph(True)\n",
    "\n",
    "%matplotlib agg\n",
    "\n",
    "G = G.to_undirected()\n",
    "# select a random source node\n",
    "source_node = random.choice(list(G.nodes()))\n",
    "\n",
    "# initialize rumour spreading\n",
    "infected_nodes = set([source_node])\n",
    "time_step = 0\n",
    "\n",
    "# track the number of consecutive steps without new infections\n",
    "no_new_infections = 0  \n",
    "\n",
    "\n",
    "# create list of node colors for visualization\n",
    "node_colors = ['blue' if node == source_node else 'gray' for node in G.nodes()]\n",
    "\n",
    "# create list of images for GIF\n",
    "images = []\n",
    "\n",
    "# simulate rumour spreading\n",
    "while len(infected_nodes) < len(G.nodes()) and no_new_infections < 5:\n",
    "    time_step += 1\n",
    "    new_infected_nodes = set()\n",
    "    for node in infected_nodes:\n",
    "        neighbours = list(G.neighbors(node))\n",
    "        random.shuffle(neighbours)\n",
    "        for neighbour in neighbours:\n",
    "            if neighbour not in infected_nodes:\n",
    "                new_infected_nodes.add(neighbour)\n",
    "                break\n",
    "    if len(new_infected_nodes) == 0:\n",
    "        no_new_infections += 1\n",
    "    else:\n",
    "        no_new_infections = 0\n",
    "    infected_nodes.update(new_infected_nodes)\n",
    "    \n",
    "# update node colors for visualization\n",
    "    for node in new_infected_nodes:\n",
    "        node_colors[node] = 'blue'\n",
    "    \n",
    "    # create a new figure and axis for each time step\n",
    "    fig, ax = plt.subplots()\n",
    "    ax.set_title(f'Iteration {time_step}')\n",
    "    nx.draw(G, pos=nx.circular_layout(G), node_color=node_colors, with_labels=False, ax=ax)\n",
    "    \n",
    "    # save the figure as an image\n",
    "    filename = f'rumour_spreading_{time_step}.png'\n",
    "    plt.savefig(filename)\n",
    "    plt.close()\n",
    "    images.append(imageio.imread(filename))\n",
    "    os.remove(filename)\n",
    "    \n",
    "if time_step > 19:\n",
    "    # create GIF from list of images\n",
    "    imageio.mimsave(f'rumour_spreading_{num_vertices}_{time_step}.gif', images, fps=2)\n",
    "\n",
    "print(num_vertices,time_step)"
   ]
  },
  {
   "cell_type": "code",
   "execution_count": 306,
   "id": "e6987a0a",
   "metadata": {},
   "outputs": [],
   "source": [
    "num_vertices = 40\n",
    "metric_space_dim = 2\n",
    "A1 = 2\n",
    "A2 = 29"
   ]
  },
  {
   "cell_type": "code",
   "execution_count": 177,
   "id": "0d706895",
   "metadata": {},
   "outputs": [
    {
     "name": "stdout",
     "output_type": "stream",
     "text": [
      "200 11.55\n",
      "205 12.55\n",
      "210 12.35\n",
      "215 12.55\n",
      "220 11.9\n",
      "225 13.25\n",
      "230 13.4\n",
      "235 13.6\n",
      "240 13.6\n",
      "245 13.65\n",
      "250 13.75\n",
      "255 13.65\n",
      "260 14.4\n",
      "265 14.1\n",
      "270 14.95\n",
      "275 15.6\n",
      "280 14.95\n",
      "285 16.157894736842106\n",
      "290 15.75\n",
      "295 15.473684210526315\n",
      "300 15.95\n",
      "305 15.85\n",
      "310 16.75\n",
      "315 16.9\n",
      "320 17.55\n",
      "325 17.0\n",
      "330 18.105263157894736\n",
      "335 17.5\n",
      "340 17.85\n",
      "345 19.3\n",
      "350 17.65\n",
      "355 19.0\n",
      "360 18.25\n",
      "365 18.65\n",
      "370 19.05263157894737\n",
      "375 19.8\n",
      "380 19.5\n",
      "385 19.2\n",
      "390 19.736842105263158\n",
      "395 19.31578947368421\n",
      "400 19.5\n",
      "405 20.0\n",
      "410 19.333333333333332\n",
      "415 19.4\n",
      "420 20.3\n",
      "425 19.55\n",
      "430 19.94736842105263\n",
      "435 20.4\n",
      "440 20.3\n"
     ]
    },
    {
     "ename": "KeyboardInterrupt",
     "evalue": "",
     "output_type": "error",
     "traceback": [
      "\u001b[0;31m---------------------------------------------------------------------------\u001b[0m",
      "\u001b[0;31mKeyboardInterrupt\u001b[0m                         Traceback (most recent call last)",
      "\u001b[0;32m<ipython-input-177-3b6dc5169a44>\u001b[0m in \u001b[0;36m<module>\u001b[0;34m\u001b[0m\n\u001b[1;32m     75\u001b[0m \u001b[0mA2\u001b[0m \u001b[0;34m=\u001b[0m \u001b[0;36m200\u001b[0m\u001b[0;34m\u001b[0m\u001b[0;34m\u001b[0m\u001b[0m\n\u001b[1;32m     76\u001b[0m \u001b[0;34m\u001b[0m\u001b[0m\n\u001b[0;32m---> 77\u001b[0;31m \u001b[0msimulation\u001b[0m\u001b[0;34m(\u001b[0m\u001b[0mnum_vertices\u001b[0m\u001b[0;34m,\u001b[0m\u001b[0mmetric_space_dim\u001b[0m\u001b[0;34m,\u001b[0m\u001b[0mA1\u001b[0m\u001b[0;34m,\u001b[0m\u001b[0mA2\u001b[0m\u001b[0;34m)\u001b[0m\u001b[0;34m\u001b[0m\u001b[0;34m\u001b[0m\u001b[0m\n\u001b[0m",
      "\u001b[0;32m<ipython-input-177-3b6dc5169a44>\u001b[0m in \u001b[0;36msimulation\u001b[0;34m(num_vertices, metric_space_dim, A1, A2, interval)\u001b[0m\n\u001b[1;32m     22\u001b[0m                 \u001b[0;31m# Choose existing vertex to link to\u001b[0m\u001b[0;34m\u001b[0m\u001b[0;34m\u001b[0m\u001b[0;34m\u001b[0m\u001b[0m\n\u001b[1;32m     23\u001b[0m                 \u001b[0;31m# Calculate the distances between each vertices\u001b[0m\u001b[0;34m\u001b[0m\u001b[0;34m\u001b[0m\u001b[0;34m\u001b[0m\u001b[0m\n\u001b[0;32m---> 24\u001b[0;31m                 \u001b[0mdistances\u001b[0m \u001b[0;34m=\u001b[0m \u001b[0;34m{\u001b[0m\u001b[0mv\u001b[0m\u001b[0;34m:\u001b[0m \u001b[0mnp\u001b[0m\u001b[0;34m.\u001b[0m\u001b[0mlinalg\u001b[0m\u001b[0;34m.\u001b[0m\u001b[0mnorm\u001b[0m\u001b[0;34m(\u001b[0m\u001b[0mlocation\u001b[0m \u001b[0;34m-\u001b[0m \u001b[0mG\u001b[0m\u001b[0;34m.\u001b[0m\u001b[0mnodes\u001b[0m\u001b[0;34m[\u001b[0m\u001b[0mv\u001b[0m\u001b[0;34m]\u001b[0m\u001b[0;34m[\u001b[0m\u001b[0;34m'location'\u001b[0m\u001b[0;34m]\u001b[0m\u001b[0;34m)\u001b[0m \u001b[0;32mfor\u001b[0m \u001b[0mv\u001b[0m \u001b[0;32min\u001b[0m \u001b[0mG\u001b[0m\u001b[0;34m.\u001b[0m\u001b[0mnodes\u001b[0m\u001b[0;34m(\u001b[0m\u001b[0;34m)\u001b[0m\u001b[0;34m}\u001b[0m\u001b[0;34m\u001b[0m\u001b[0;34m\u001b[0m\u001b[0m\n\u001b[0m\u001b[1;32m     25\u001b[0m \u001b[0;34m\u001b[0m\u001b[0m\n\u001b[1;32m     26\u001b[0m                 \u001b[0;31m# Calculate and regularize the probability of connection\u001b[0m\u001b[0;34m\u001b[0m\u001b[0;34m\u001b[0m\u001b[0;34m\u001b[0m\u001b[0m\n",
      "\u001b[0;32m<ipython-input-177-3b6dc5169a44>\u001b[0m in \u001b[0;36m<dictcomp>\u001b[0;34m(.0)\u001b[0m\n\u001b[1;32m     22\u001b[0m                 \u001b[0;31m# Choose existing vertex to link to\u001b[0m\u001b[0;34m\u001b[0m\u001b[0;34m\u001b[0m\u001b[0;34m\u001b[0m\u001b[0m\n\u001b[1;32m     23\u001b[0m                 \u001b[0;31m# Calculate the distances between each vertices\u001b[0m\u001b[0;34m\u001b[0m\u001b[0;34m\u001b[0m\u001b[0;34m\u001b[0m\u001b[0m\n\u001b[0;32m---> 24\u001b[0;31m                 \u001b[0mdistances\u001b[0m \u001b[0;34m=\u001b[0m \u001b[0;34m{\u001b[0m\u001b[0mv\u001b[0m\u001b[0;34m:\u001b[0m \u001b[0mnp\u001b[0m\u001b[0;34m.\u001b[0m\u001b[0mlinalg\u001b[0m\u001b[0;34m.\u001b[0m\u001b[0mnorm\u001b[0m\u001b[0;34m(\u001b[0m\u001b[0mlocation\u001b[0m \u001b[0;34m-\u001b[0m \u001b[0mG\u001b[0m\u001b[0;34m.\u001b[0m\u001b[0mnodes\u001b[0m\u001b[0;34m[\u001b[0m\u001b[0mv\u001b[0m\u001b[0;34m]\u001b[0m\u001b[0;34m[\u001b[0m\u001b[0;34m'location'\u001b[0m\u001b[0;34m]\u001b[0m\u001b[0;34m)\u001b[0m \u001b[0;32mfor\u001b[0m \u001b[0mv\u001b[0m \u001b[0;32min\u001b[0m \u001b[0mG\u001b[0m\u001b[0;34m.\u001b[0m\u001b[0mnodes\u001b[0m\u001b[0;34m(\u001b[0m\u001b[0;34m)\u001b[0m\u001b[0;34m}\u001b[0m\u001b[0;34m\u001b[0m\u001b[0;34m\u001b[0m\u001b[0m\n\u001b[0m\u001b[1;32m     25\u001b[0m \u001b[0;34m\u001b[0m\u001b[0m\n\u001b[1;32m     26\u001b[0m                 \u001b[0;31m# Calculate and regularize the probability of connection\u001b[0m\u001b[0;34m\u001b[0m\u001b[0;34m\u001b[0m\u001b[0;34m\u001b[0m\u001b[0m\n",
      "\u001b[0;32m~/opt/anaconda3/lib/python3.8/site-packages/numpy/core/overrides.py\u001b[0m in \u001b[0;36mnorm\u001b[0;34m(*args, **kwargs)\u001b[0m\n",
      "\u001b[0;32m~/opt/anaconda3/lib/python3.8/site-packages/numpy/linalg/linalg.py\u001b[0m in \u001b[0;36mnorm\u001b[0;34m(x, ord, axis, keepdims)\u001b[0m\n\u001b[1;32m   2500\u001b[0m     \u001b[0mx\u001b[0m \u001b[0;34m=\u001b[0m \u001b[0masarray\u001b[0m\u001b[0;34m(\u001b[0m\u001b[0mx\u001b[0m\u001b[0;34m)\u001b[0m\u001b[0;34m\u001b[0m\u001b[0;34m\u001b[0m\u001b[0m\n\u001b[1;32m   2501\u001b[0m \u001b[0;34m\u001b[0m\u001b[0m\n\u001b[0;32m-> 2502\u001b[0;31m     \u001b[0;32mif\u001b[0m \u001b[0;32mnot\u001b[0m \u001b[0missubclass\u001b[0m\u001b[0;34m(\u001b[0m\u001b[0mx\u001b[0m\u001b[0;34m.\u001b[0m\u001b[0mdtype\u001b[0m\u001b[0;34m.\u001b[0m\u001b[0mtype\u001b[0m\u001b[0;34m,\u001b[0m \u001b[0;34m(\u001b[0m\u001b[0minexact\u001b[0m\u001b[0;34m,\u001b[0m \u001b[0mobject_\u001b[0m\u001b[0;34m)\u001b[0m\u001b[0;34m)\u001b[0m\u001b[0;34m:\u001b[0m\u001b[0;34m\u001b[0m\u001b[0;34m\u001b[0m\u001b[0m\n\u001b[0m\u001b[1;32m   2503\u001b[0m         \u001b[0mx\u001b[0m \u001b[0;34m=\u001b[0m \u001b[0mx\u001b[0m\u001b[0;34m.\u001b[0m\u001b[0mastype\u001b[0m\u001b[0;34m(\u001b[0m\u001b[0mfloat\u001b[0m\u001b[0;34m)\u001b[0m\u001b[0;34m\u001b[0m\u001b[0;34m\u001b[0m\u001b[0m\n\u001b[1;32m   2504\u001b[0m \u001b[0;34m\u001b[0m\u001b[0m\n",
      "\u001b[0;31mKeyboardInterrupt\u001b[0m: "
     ]
    }
   ],
   "source": [
    "def get_influence_sim(G,timestep):\n",
    "    in_degrees = dict(G.in_degree(G.nodes()))\n",
    "    sphere_of_influence = {v: ((A1*in_degrees.get(v))+A2)/timestep for v in G.nodes()}\n",
    "    return sphere_of_influence\n",
    "\n",
    "def simulation(num_vertices,metric_space_dim,A1,A2,interval=5):\n",
    "    for num_vertice in range(200,num_vertices,interval):\n",
    "        average_step = []\n",
    "        for _ in range(20):\n",
    "            # Initialize the graph with a single vertex\n",
    "            G = nx.DiGraph()\n",
    "            G.add_node(0,location=np.random.rand(metric_space_dim))\n",
    "\n",
    "            # Generate new vertices and add edges\n",
    "            for i in range(1, num_vertice):\n",
    "                # Choose location of new vertex in metric space corresponding to uniform distribution\n",
    "                location = np.random.rand(metric_space_dim)*10\n",
    "\n",
    "                # Calculate sphere of influence\n",
    "                sphere_of_influence = get_influence_sim(G,i)\n",
    "\n",
    "                # Choose existing vertex to link to\n",
    "                # Calculate the distances between each vertices\n",
    "                distances = {v: np.linalg.norm(location - G.nodes[v]['location']) for v in G.nodes()}\n",
    "\n",
    "                # Calculate and regularize the probability of connection\n",
    "                probabilities = {v: 1 if distances[v]<=sphere_of_influence[v] else 0 for v in G.nodes()}\n",
    "\n",
    "                # print(distances,sphere_of_influence,probabilities)\n",
    "\n",
    "                # Add new vertex and edge\n",
    "                G.add_node(i, location=location)\n",
    "                for v in G.nodes():\n",
    "                    if v!=i and probabilities[v]==1:\n",
    "                        G.add_edge(i, v)\n",
    "\n",
    "\n",
    "\n",
    "            G = G.to_undirected()\n",
    "            # select a random source node\n",
    "            source_node = random.choice(list(G.nodes()))\n",
    "\n",
    "            # initialize rumour spreading\n",
    "            infected_nodes = set([source_node])\n",
    "            time_step = 0\n",
    "\n",
    "            # track the number of consecutive steps without new infections\n",
    "            no_new_infections = 0  \n",
    "\n",
    "            # simulate rumour spreading\n",
    "            while len(infected_nodes) < len(G.nodes()) and no_new_infections < 5:\n",
    "                time_step += 1\n",
    "                new_infected_nodes = set()\n",
    "                for node in infected_nodes:\n",
    "                    neighbours = list(G.neighbors(node))\n",
    "                    random.shuffle(neighbours)\n",
    "                    for neighbour in neighbours:\n",
    "                        if neighbour not in infected_nodes:\n",
    "                            new_infected_nodes.add(neighbour)\n",
    "                            break\n",
    "                if len(new_infected_nodes) == 0:\n",
    "                    no_new_infections += 1\n",
    "                else:\n",
    "                    no_new_infections = 0\n",
    "                infected_nodes.update(new_infected_nodes)\n",
    "\n",
    "            if len(infected_nodes) > 0.9*len(G.nodes()):\n",
    "                average_step.append(time_step)\n",
    "        print(num_vertice,np.average(average_step))\n",
    "\n",
    "        \n",
    "num_vertices = 1000\n",
    "metric_space_dim = 2\n",
    "A1 = 0.99\n",
    "A2 = 200\n",
    "\n",
    "simulation(num_vertices,metric_space_dim,A1,A2)"
   ]
  },
  {
   "cell_type": "code",
   "execution_count": 178,
   "id": "8d9309e5",
   "metadata": {},
   "outputs": [],
   "source": [
    "import pandas as pd"
   ]
  },
  {
   "cell_type": "code",
   "execution_count": 192,
   "id": "4d9db383",
   "metadata": {},
   "outputs": [
    {
     "data": {
      "image/png": "[encoded data removed]",
      "text/plain": [
       "<Figure size 432x288 with 1 Axes>"
      ]
     },
     "metadata": {
      "needs_background": "light"
     },
     "output_type": "display_data"
    }
   ],
   "source": [
    "%matplotlib inline\n",
    "df = pd.read_csv('spread.txt', sep=\" \", header=None)\n",
    "df.set_index(0, inplace=True)\n",
    "\n",
    "\n",
    "plt.xlabel('NUMBER OF VERTICES')\n",
    "plt.ylabel('TIME')\n",
    "plt.title('Time for infecting 90% of the vertices')\n",
    "plt.plot(df, label=r'Time to spread 90% of the vertices')\n",
    "plt.show()"
   ]
  },
  {
   "cell_type": "code",
   "execution_count": 198,
   "id": "d9e6304d",
   "metadata": {},
   "outputs": [
    {
     "data": {
      "image/png": "[encoded data removed]",
      "text/plain": [
       "<Figure size 432x288 with 1 Axes>"
      ]
     },
     "metadata": {
      "needs_background": "light"
     },
     "output_type": "display_data"
    }
   ],
   "source": [
    "df = pd.read_csv('spread.txt', sep=\" \", header=None)\n",
    "x = df[0]\n",
    "y = df[1]\n",
    "\n",
    "coefficients = np.polyfit(x, y, deg=1)\n",
    "fit = np.poly1d(coefficients)\n",
    "\n",
    "plt.scatter(x, y, label='Original data')\n",
    "\n",
    "plt.plot(x, fit(x), color='red', label='Fit: {:.2f} + {:.2f}x'.format(*coefficients))\n",
    "plt.legend()\n",
    "plt.show()"
   ]
  },
  {
   "cell_type": "code",
   "execution_count": 202,
   "id": "283ca2a5",
   "metadata": {},
   "outputs": [
    {
     "name": "stdout",
     "output_type": "stream",
     "text": [
      "MSE:  0.2263873046392867\n",
      "R²:  0.9883271060887636\n"
     ]
    }
   ],
   "source": [
    "from sklearn.metrics import mean_squared_error, r2_score\n",
    "\n",
    "df = pd.read_csv('spread.txt', sep=\" \", header=None)\n",
    "x = df[0]\n",
    "y = df[1]\n",
    "\n",
    "coefficients = np.polyfit(x, y, deg=1)\n",
    "fit = np.poly1d(coefficients)\n",
    "\n",
    "y_pred = fit(x)\n",
    "\n",
    "mse = mean_squared_error(y, y_pred)\n",
    "\n",
    "r2 = r2_score(y, y_pred)\n",
    "\n",
    "print('MSE: ', mse)\n",
    "print('R²: ', r2)"
   ]
  },
  {
   "cell_type": "code",
   "execution_count": 203,
   "id": "65850db6",
   "metadata": {},
   "outputs": [
    {
     "data": {
      "text/plain": [
       "array([ 5.50861114,  5.69135011,  5.87408908,  6.05682805,  6.23956702,\n",
       "        6.42230599,  6.60504496,  6.78778392,  6.97052289,  7.15326186,\n",
       "        7.33600083,  7.5187398 ,  7.70147877,  7.88421774,  8.06695671,\n",
       "        8.24969568,  8.43243465,  8.61517362,  8.79791259,  8.98065156,\n",
       "        9.16339053,  9.3461295 ,  9.52886847,  9.71160744,  9.89434641,\n",
       "       10.07708538, 10.25982435, 10.44256332, 10.62530229, 10.80804126,\n",
       "       10.99078023, 11.1735192 , 11.35625817, 11.53899714, 11.72173611,\n",
       "       11.90447508, 12.08721405, 12.26995302, 12.45269199, 12.63543096,\n",
       "       12.81816993, 13.0009089 , 13.18364787, 13.36638684, 13.54912581,\n",
       "       13.73186478, 13.91460375, 14.09734272, 14.28008169, 14.46282066,\n",
       "       14.64555963, 14.8282986 , 15.01103757, 15.19377654, 15.37651551,\n",
       "       15.55925448, 15.74199345, 15.92473242, 16.10747139, 16.29021036,\n",
       "       16.47294933, 16.6556883 , 16.83842726, 17.02116623, 17.2039052 ,\n",
       "       17.38664417, 17.56938314, 17.75212211, 17.93486108, 18.11760005,\n",
       "       18.30033902, 18.48307799, 18.66581696, 18.84855593, 19.0312949 ,\n",
       "       19.21403387, 19.39677284, 19.57951181, 19.76225078, 19.94498975,\n",
       "       20.12772872, 20.31046769, 20.49320666])"
      ]
     },
     "execution_count": 203,
     "metadata": {},
     "output_type": "execute_result"
    }
   ],
   "source": [
    "y_pred"
   ]
  }
 ],
 "metadata": {
  "kernelspec": {
   "display_name": "Python 3",
   "language": "python",
   "name": "python3"
  },
  "language_info": {
   "codemirror_mode": {
    "name": "ipython",
    "version": 3
   },
   "file_extension": ".py",
   "mimetype": "text/x-python",
   "name": "python",
   "nbconvert_exporter": "python",
   "pygments_lexer": "ipython3",
   "version": "3.8.8"
  }
 },
 "nbformat": 4,
 "nbformat_minor": 5
}
